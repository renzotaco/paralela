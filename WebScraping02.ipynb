{
  "nbformat": 4,
  "nbformat_minor": 0,
  "metadata": {
    "colab": {
      "name": "WebScraping02.ipynb",
      "provenance": [],
      "authorship_tag": "ABX9TyO1MqwtAHhHbJ7AQi2AtXKr",
      "include_colab_link": true
    },
    "kernelspec": {
      "name": "python3",
      "display_name": "Python 3"
    },
    "language_info": {
      "name": "python"
    }
  },
  "cells": [
    {
      "cell_type": "markdown",
      "metadata": {
        "id": "view-in-github",
        "colab_type": "text"
      },
      "source": [
        "<a href=\"https://colab.research.google.com/github/renzotaco/paralela/blob/main/WebScraping02.ipynb\" target=\"_parent\"><img src=\"https://colab.research.google.com/assets/colab-badge.svg\" alt=\"Open In Colab\"/></a>"
      ]
    },
    {
      "cell_type": "code",
      "metadata": {
        "id": "NAWrQUDNu6L8"
      },
      "source": [
        "import requests\n",
        "from bs4 import BeautifulSoup\n",
        "from pprint import pprint\n",
        "\n"
      ],
      "execution_count": 1,
      "outputs": []
    },
    {
      "cell_type": "code",
      "metadata": {
        "id": "M2jKvP09vCB_"
      },
      "source": [
        "url = 'https://notes.ayushsharma.in/technology'\n",
        "\n",
        "data = requests.get(url)\n",
        "\n",
        "print(data.text)"
      ],
      "execution_count": null,
      "outputs": []
    },
    {
      "cell_type": "code",
      "metadata": {
        "colab": {
          "base_uri": "https://localhost:8080/"
        },
        "id": "sSd6x4d_xNXL",
        "outputId": "faafcf83-50bc-4a30-a0cd-c6d641608587"
      },
      "source": [
        "import requests\n",
        "from bs4 import BeautifulSoup\n",
        "from pprint import pprint\n",
        "\n",
        "url = 'https://notes.ayushsharma.in/technology'\n",
        "data = requests.get(url)\n",
        "\n",
        "my_data = []\n",
        "\n",
        "html = BeautifulSoup(data.text, 'html.parser')\n",
        "\n",
        "articles = html.select('a.post-card')\n",
        "\n",
        "for article in articles:\n",
        "\n",
        "    title = article.select('.card-title')[0].get_text()\n",
        "    my_data.append({\"title\": title})\n",
        "\n",
        "pprint(my_data)\n"
      ],
      "execution_count": 4,
      "outputs": [
        {
          "output_type": "stream",
          "name": "stdout",
          "text": [
            "[{'title': 'Easy pretty URL redirects with Jekyll and Netlify'},\n",
            " {'title': 'Linking Jekyll pages back to their Git source code'},\n",
            " {'title': 'Optimising JPG and PNG images for a Jekyll website'},\n",
            " {'title': 'Quick and easy client-side JavaScript search with Lunr.js'},\n",
            " {'title': 'Creating light and dark themes for websites the right way using '\n",
            "           'prefers-color-scheme'},\n",
            " {'title': 'Make Linux apps for Notion, Mastodon, or any web app using '\n",
            "           'Nativefier'},\n",
            " {'title': 'Inserting dynamic data into Jekyll static sites using Python or '\n",
            "           'Bash'},\n",
            " {'title': 'Introduction to Ansible'},\n",
            " {'title': 'Introduction to YAML'},\n",
            " {'title': 'Introduction to Jekyll'},\n",
            " {'title': 'Multi-machine Setup and Configuration with Vagrant'},\n",
            " {'title': 'Provisioning with Vagrant'},\n",
            " {'title': 'Introduction to Vagrant'},\n",
            " {'title': 'A Guide to Web Scraping in Python using BeautifulSoup'},\n",
            " {'title': 'Using variables in Jekyll to define custom content'},\n",
            " {'title': 'The evolution of ayushsharma.in: Jekyll, Bootstrap, Netlify, '\n",
            "           'static websites, and responsive design.'},\n",
            " {'title': '5 key best practices for sane and usable Terraform setups'},\n",
            " {'title': 'Cloud Infrastructure SAST: Scanning Terraform for security '\n",
            "           'vulnerabilities and non-compliance using Checkov'},\n",
            " {'title': 'Terraform + Helm: A match made in heaven/hell?'},\n",
            " {'title': 'Automating ArgoCD using ArgoCD!'},\n",
            " {'title': 'Getting started with ArgoCD'},\n",
            " {'title': 'Creating ready-to-use AWS Security Groups using Terraform '\n",
            "           'Registry, Named Groups, and Named Rules'},\n",
            " {'title': 'Creating AWS VPCs in 2 minutes with Terraform Registry'},\n",
            " {'title': 'Continuous delivery on GitLab: Pushing Docker images to DockerHub '\n",
            "           'using GitLab Pipelines'},\n",
            " {'title': 'Configuring Elasticsearch snapshots using SLM on Google Compute '\n",
            "           'Engine'},\n",
            " {'title': '\\u200b\\u200bWorking From Home and Software Engineering'},\n",
            " {'title': '\\u200b\\u200bThe Virus \\u200b😷\\u200b and the Cloud \\u200b⛅\\u200b: '\n",
            "           'Tips on AWS cost-saving in these weird \\u200b🤯\\u200b times'},\n",
            " {'title': 'Replicating Bitbucket Pipelines on your laptop for local '\n",
            "           'debugging'},\n",
            " {'title': 'Cloning another Bitbucket repository in Bitbucket Pipelines'},\n",
            " {'title': 'Deploying git submodules in Bitbucket Pipelines'},\n",
            " {'title': 'Automating Amazon Elastic Container (ECR) container builds using '\n",
            "           'Bitbucket Pipelines'},\n",
            " {'title': 'Taming AWS costs with Cost and Usage Reports + AWS Athena'},\n",
            " {'title': 'Exporting Bitucket repositories and Pipelines with Python'},\n",
            " {'title': 'Rediscovering Logo with Bob the turtle'},\n",
            " {'title': 'Automating Serverless framework deployments using Bitbucket '\n",
            "           'Pipelines'},\n",
            " {'title': 'Automating AWS Lambda deployments using Bitbucket Pipelines and '\n",
            "           'Bitbucket Pipes'},\n",
            " {'title': 'Algorithms in Python: Exchange Sorts'},\n",
            " {'title': 'Working with NumPy in Python'},\n",
            " {'title': 'Data Types in Python'},\n",
            " {'title': 'Dockerizing Tweet-Toot: A practical guide to deploying your app '\n",
            "           'using Docker'},\n",
            " {'title': 'SublimeText 3 setup for Jekyll development'},\n",
            " {'title': \"Gartner's Magic Quadrants: A summary of cloud \"\n",
            "           'Infrastructure-as-a-Service providers over the last 5 years'},\n",
            " {'title': 'Tweet-Toot: Building a bot for Mastodon using Python'},\n",
            " {'title': 'Moving from CloudFlare to StackPath'},\n",
            " {'title': 'Understanding vendor lock-in and breaking the cycle'},\n",
            " {'title': 'Rolling clusters for deployment with Terraform'},\n",
            " {'title': 'Working with Terraform Modules'},\n",
            " {'title': 'Getting started with Terraform'},\n",
            " {'title': 'Upgrading to HTTP/2'},\n",
            " {'title': 'HTTP security headers: Referrer-Policy'},\n",
            " {'title': 'HTTP security headers: X-Content-Type-Options'},\n",
            " {'title': 'HTTP security headers: X-Frame-Options'},\n",
            " {'title': 'HTTP security headers: HTTP-Strict-Transport-Security'},\n",
            " {'title': 'HTTP security headers: X-XSS-Protection'},\n",
            " {'title': 'HTTP security headers: Content-Security-Policy'},\n",
            " {'title': \"I'm killing Disqus comments on my blog. Here's why.\"},\n",
            " {'title': 'Posting messages to Slack using incoming webhooks and Python3 '\n",
            "           'Requests API'},\n",
            " {'title': 'Using Packer and Ansible to create immutable servers, deploying '\n",
            "           'code, and recycling instances'},\n",
            " {'title': 'Getting started with Packer'},\n",
            " {'title': \"The different ways I've deployed code over the years: the road to \"\n",
            "           'Immutable Servers'},\n",
            " {'title': 'Testing AWS Elastic Load Balancer health check endpoints with '\n",
            "           'Python'},\n",
            " {'title': 'Complete Nginx Monitoring with Collectd and InfluxDB'},\n",
            " {'title': 'Deploying Jekyll blog automatically using Bitbucket Pipelines'},\n",
            " {'title': 'Migrating MySQL database tables to InfluxDB'},\n",
            " {'title': 'Backing up InfluxDB databases to S3'},\n",
            " {'title': 'Setting Up Grafana to use Collectd and InfluxDB'},\n",
            " {'title': 'Setting up Collectd and InfluxDB on Mac OS X'},\n",
            " {'title': 'Getting Started with time-series data using InfluxDB'},\n",
            " {'title': 'Getting started with server metrics collection with Collectd'},\n",
            " {'title': 'Retry Strategies for Transient Failures'},\n",
            " {'title': 'Using Route 53 as a Load Balancer'},\n",
            " {'title': 'MySQL Database backups to S3'},\n",
            " {'title': 'Mastodon Users and Instances in Sqlite3 Using Python'},\n",
            " {'title': 'The Ultimate Guide to Using Mail in Linux'},\n",
            " {'title': \"Fixing ValueError('unknown locale: %s' % localename) in Python\"},\n",
            " {'title': 'Getting Started with Xinetd'},\n",
            " {'title': 'Getting City, Country and ISP of an IP address using Maxmind '\n",
            "           'GeoIP'},\n",
            " {'title': 'AWS, GCS, Azure and Digital Ocean incidents by service in 2016'},\n",
            " {'title': 'I Have Something to Say II'},\n",
            " {'title': 'Using Weighted, Geo and Fail-over Routeing in Route 53'},\n",
            " {'title': 'You still might need a staging server in 2017'},\n",
            " {'title': 'AWS, GCS, Azure and Digital Ocean incidents in 2016'},\n",
            " {'title': 'I Have Something to Say'},\n",
            " {'title': 'Connecting VPCs in 2 AWS Regions (Site-to-site VPN)'},\n",
            " {'title': 'Installing PHP 7 FPM + MySQL 5.7 + Nginx 1.10 on Ubuntu 16.04'},\n",
            " {'title': 'Working with Logical Volume Manager (LVM)'},\n",
            " {'title': 'Fiddling with Logrotate'},\n",
            " {'title': 'AWS Route 53 Notes'},\n",
            " {'title': 'AWS EBS Types Read/Write Benchmarks'},\n",
            " {'title': 'Logging AWS spot instance termination'},\n",
            " {'title': 'Decompressing request using GZIP with Nginx'},\n",
            " {'title': 'Compressing output using GZIP with PHP 5.3'},\n",
            " {'title': 'Introduction to Load-balancing with Nginx'},\n",
            " {'title': 'Reading JWT token in Phalcon'},\n",
            " {'title': 'Setting Custom 404 Controller in Phalcon'},\n",
            " {'title': 'DNS Record Types'},\n",
            " {'title': \"Securing Nginx with Let's Encrypt Free SSL Certificate\"},\n",
            " {'title': 'Vertical Scaling vs Horizontal Scaling'},\n",
            " {'title': 'Essential VIM Keyboard Shortcuts'},\n",
            " {'title': 'Notes on AWS SQS'},\n",
            " {'title': 'MySQL Physical Backup with Innobackupex'},\n",
            " {'title': 'Introduction to MySQL Partitioning'},\n",
            " {'title': 'Introduction to Fluentd'},\n",
            " {'title': 'NANO Keyboard Shortcuts'},\n",
            " {'title': 'JSON Web Tokens'},\n",
            " {'title': 'Hello @World'}]\n"
          ]
        }
      ]
    }
  ]
}